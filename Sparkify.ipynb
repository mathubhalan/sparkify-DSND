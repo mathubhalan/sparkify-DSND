{
 "cells": [
  {
   "cell_type": "markdown",
   "metadata": {},
   "source": [
    "# Sparkify Project Workspace\n",
    "This workspace contains a tiny subset (128MB) of the full dataset available (12GB). Feel free to use this workspace to build your project, or to explore a smaller subset with Spark before deploying your cluster on the cloud. Instructions for setting up your Spark cluster is included in the last lesson of the Extracurricular Spark Course content.\n",
    "\n",
    "You can follow the steps below to guide your data analysis and model building portion of this project."
   ]
  },
  {
   "cell_type": "code",
   "execution_count": 2,
   "metadata": {},
   "outputs": [],
   "source": [
    "# import libraries\n",
    "from pyspark.sql import SparkSession\n",
    "from pyspark.sql.functions import avg, substring, col, when, desc, min, max, sum, \\\n",
    "split, udf, count, countDistinct, rand, struct, isnan, isnull, from_unixtime, dayofmonth, month, datediff, to_date, lit, current_date\n",
    "from pyspark.sql.types import IntegerType, ArrayType, FloatType, DoubleType, Row, DateType\n",
    "from pyspark.ml.linalg import DenseVector, SparseVector\n",
    "\n",
    "from pyspark.ml import Pipeline\n",
    "from pyspark.ml.classification import LogisticRegression, RandomForestClassifier, GBTClassifier\n",
    "from pyspark.ml.evaluation import MulticlassClassificationEvaluator\n",
    "from pyspark.ml.feature import CountVectorizer, IDF, Normalizer, PCA, RegexTokenizer, StandardScaler, StopWordsRemover, StringIndexer, VectorAssembler\n",
    "from pyspark.ml.tuning import CrossValidator, ParamGridBuilder\n",
    "\n",
    "import pandas as pd\n",
    "import matplotlib.pyplot as plt\n",
    "import seaborn as sns\n",
    "%matplotlib inline\n",
    "import datetime\n",
    "\n"
   ]
  },
  {
   "cell_type": "code",
   "execution_count": 3,
   "metadata": {},
   "outputs": [],
   "source": [
    "# Create the spark session and load the dataframe\n",
    "spark = SparkSession \\\n",
    "    .builder \\\n",
    "    .appName(\"Sparkify Churn Analysis\") \\\n",
    "    .getOrCreate()\n",
    "\n",
    "\n"
   ]
  },
  {
   "cell_type": "markdown",
   "metadata": {},
   "source": [
    "# Load and Clean Dataset\n",
    "In this workspace, the mini-dataset file is `mini_sparkify_event_data.json`. Load and clean the dataset, checking for invalid or missing data - for example, records without userids or sessionids. "
   ]
  },
  {
   "cell_type": "code",
   "execution_count": 4,
   "metadata": {},
   "outputs": [
    {
     "name": "stdout",
     "output_type": "stream",
     "text": [
      "+----------------+---------+---------+------+-------------+--------+---------+-----+--------------------+------+--------+-------------+---------+--------------------+------+-------------+--------------------+------+\n",
      "|          artist|     auth|firstName|gender|itemInSession|lastName|   length|level|            location|method|    page| registration|sessionId|                song|status|           ts|           userAgent|userId|\n",
      "+----------------+---------+---------+------+-------------+--------+---------+-----+--------------------+------+--------+-------------+---------+--------------------+------+-------------+--------------------+------+\n",
      "|  Martha Tilston|Logged In|    Colin|     M|           50| Freeman|277.89016| paid|     Bakersfield, CA|   PUT|NextSong|1538173362000|       29|           Rockpools|   200|1538352117000|Mozilla/5.0 (Wind...|    30|\n",
      "|Five Iron Frenzy|Logged In|    Micah|     M|           79|    Long|236.09424| free|Boston-Cambridge-...|   PUT|NextSong|1538331630000|        8|              Canada|   200|1538352180000|\"Mozilla/5.0 (Win...|     9|\n",
      "|    Adam Lambert|Logged In|    Colin|     M|           51| Freeman| 282.8273| paid|     Bakersfield, CA|   PUT|NextSong|1538173362000|       29|   Time For Miracles|   200|1538352394000|Mozilla/5.0 (Wind...|    30|\n",
      "|          Enigma|Logged In|    Micah|     M|           80|    Long|262.71302| free|Boston-Cambridge-...|   PUT|NextSong|1538331630000|        8|Knocking On Forbi...|   200|1538352416000|\"Mozilla/5.0 (Win...|     9|\n",
      "|       Daft Punk|Logged In|    Colin|     M|           52| Freeman|223.60771| paid|     Bakersfield, CA|   PUT|NextSong|1538173362000|       29|Harder Better Fas...|   200|1538352676000|Mozilla/5.0 (Wind...|    30|\n",
      "+----------------+---------+---------+------+-------------+--------+---------+-----+--------------------+------+--------+-------------+---------+--------------------+------+-------------+--------------------+------+\n",
      "only showing top 5 rows\n",
      "\n"
     ]
    }
   ],
   "source": [
    "path = \"mini_sparkify_event_data.json\"\n",
    "df = spark.read.json(path)\n",
    "df.persist()\n",
    "\n",
    "df.show(5)"
   ]
  },
  {
   "cell_type": "code",
   "execution_count": 5,
   "metadata": {},
   "outputs": [
    {
     "name": "stdout",
     "output_type": "stream",
     "text": [
      "root\n",
      " |-- artist: string (nullable = true)\n",
      " |-- auth: string (nullable = true)\n",
      " |-- firstName: string (nullable = true)\n",
      " |-- gender: string (nullable = true)\n",
      " |-- itemInSession: long (nullable = true)\n",
      " |-- lastName: string (nullable = true)\n",
      " |-- length: double (nullable = true)\n",
      " |-- level: string (nullable = true)\n",
      " |-- location: string (nullable = true)\n",
      " |-- method: string (nullable = true)\n",
      " |-- page: string (nullable = true)\n",
      " |-- registration: long (nullable = true)\n",
      " |-- sessionId: long (nullable = true)\n",
      " |-- song: string (nullable = true)\n",
      " |-- status: long (nullable = true)\n",
      " |-- ts: long (nullable = true)\n",
      " |-- userAgent: string (nullable = true)\n",
      " |-- userId: string (nullable = true)\n",
      "\n"
     ]
    }
   ],
   "source": [
    "df.printSchema()"
   ]
  },
  {
   "cell_type": "code",
   "execution_count": 6,
   "metadata": {},
   "outputs": [],
   "source": [
    "#Create a View\n",
    "df.createOrReplaceTempView('logs')"
   ]
  },
  {
   "cell_type": "code",
   "execution_count": 7,
   "metadata": {},
   "outputs": [
    {
     "name": "stdout",
     "output_type": "stream",
     "text": [
      "Total Count:  286500\n",
      "Missing Value in Columns :- \n",
      "artist : 58392\n",
      "auth : 0\n",
      "firstName : 8346\n",
      "gender : 8346\n",
      "itemInSession : 0\n",
      "lastName : 8346\n",
      "length : 58392\n",
      "level : 0\n",
      "location : 8346\n",
      "method : 0\n",
      "page : 0\n",
      "registration : 8346\n",
      "sessionId : 0\n",
      "song : 58392\n",
      "status : 0\n",
      "ts : 0\n",
      "userAgent : 8346\n",
      "userId : 0\n"
     ]
    }
   ],
   "source": [
    "#Let us see the Missing Values\n",
    "print(\"Total Count: \", df.count())\n",
    "print(\"Missing Value in Columns :- \")\n",
    "for colName, dtype in df.dtypes:\n",
    "    print(colName,':', df.filter(df[colName].isNull()).count())\n",
    "    "
   ]
  },
  {
   "cell_type": "code",
   "execution_count": 8,
   "metadata": {},
   "outputs": [
    {
     "data": {
      "text/plain": [
       "34.32782171099928"
      ]
     },
     "execution_count": 8,
     "metadata": {},
     "output_type": "execute_result"
    }
   ],
   "source": [
    "df.count()/df.filter(df[\"registration\"].isNull()).count()"
   ]
  },
  {
   "cell_type": "markdown",
   "metadata": {},
   "source": [
    "**Observations on Missing Values**\n",
    "1. As we can see few columns as no missing values, user id is an unique attribute and it has no missing values\n",
    "2. Columns like artist firstname, lastname, gender, length, location, registration, song and userAgent has missing values\n",
    "\n",
    "Lets us how the missing values in firstname, lastname, artist impacts the model and which columns to be dropped."
   ]
  },
  {
   "cell_type": "code",
   "execution_count": 9,
   "metadata": {},
   "outputs": [
    {
     "name": "stdout",
     "output_type": "stream",
     "text": [
      "+------+----------+---------+------+-------------+--------+------+-----+--------+------+----+------------+---------+----+------+-------------+---------+------+\n",
      "|artist|auth      |firstName|gender|itemInSession|lastName|length|level|location|method|page|registration|sessionId|song|status|ts           |userAgent|userId|\n",
      "+------+----------+---------+------+-------------+--------+------+-----+--------+------+----+------------+---------+----+------+-------------+---------+------+\n",
      "|null  |Logged Out|null     |null  |100          |null    |null  |free |null    |GET   |Home|null        |8        |null|200   |1538355745000|null     |      |\n",
      "+------+----------+---------+------+-------------+--------+------+-----+--------+------+----+------------+---------+----+------+-------------+---------+------+\n",
      "only showing top 1 row\n",
      "\n",
      "Number of rows with missing registration:  8346\n",
      "Number of rows with missing registration, name, gender, location and user agent:  8346\n"
     ]
    }
   ],
   "source": [
    "\n",
    "df.filter(df.registration.isNull()).show(1,False)\n",
    "\n",
    "print(\"Number of rows with missing registration: \", df.filter(df.registration.isNull()).count())\n",
    "print(\"Number of rows with missing registration, name, gender, location and user agent: \",\\\n",
    "      df.filter(df.registration.isNull() & df.firstName.isNull() & df.lastName.isNull() &\n",
    "               df.gender.isNull() & df.location.isNull() & df.userAgent.isNull()).count()) \n",
    "\n",
    "df = df.filter(df.registration.isNotNull())"
   ]
  },
  {
   "cell_type": "code",
   "execution_count": 10,
   "metadata": {},
   "outputs": [
    {
     "name": "stdout",
     "output_type": "stream",
     "text": [
      "+------+---------+---------+------+-------------+--------+------+-----+--------------------+------+---------------+-------------+---------+----+------+-------------+--------------------+------+\n",
      "|artist|     auth|firstName|gender|itemInSession|lastName|length|level|            location|method|           page| registration|sessionId|song|status|           ts|           userAgent|userId|\n",
      "+------+---------+---------+------+-------------+--------+------+-----+--------------------+------+---------------+-------------+---------+----+------+-------------+--------------------+------+\n",
      "|  null|Logged In|    Colin|     M|           54| Freeman|  null| paid|     Bakersfield, CA|   PUT|Add to Playlist|1538173362000|       29|null|   200|1538352905000|Mozilla/5.0 (Wind...|    30|\n",
      "|  null|Logged In|    Micah|     M|           84|    Long|  null| free|Boston-Cambridge-...|   GET|    Roll Advert|1538331630000|        8|null|   200|1538353150000|\"Mozilla/5.0 (Win...|     9|\n",
      "|  null|Logged In|    Micah|     M|           86|    Long|  null| free|Boston-Cambridge-...|   PUT|      Thumbs Up|1538331630000|        8|null|   307|1538353376000|\"Mozilla/5.0 (Win...|     9|\n",
      "|  null|Logged In|    Alexi|     F|            4|  Warren|  null| paid|Spokane-Spokane V...|   GET|      Downgrade|1532482662000|       53|null|   200|1538354749000|Mozilla/5.0 (Wind...|    54|\n",
      "|  null|Logged In|    Alexi|     F|            7|  Warren|  null| paid|Spokane-Spokane V...|   PUT|      Thumbs Up|1532482662000|       53|null|   307|1538355255000|Mozilla/5.0 (Wind...|    54|\n",
      "|  null|Logged In|    Micah|     M|           95|    Long|  null| free|Boston-Cambridge-...|   PUT|    Thumbs Down|1538331630000|        8|null|   307|1538355306000|\"Mozilla/5.0 (Win...|     9|\n",
      "|  null|Logged In|    Micah|     M|           97|    Long|  null| free|Boston-Cambridge-...|   GET|           Home|1538331630000|        8|null|   200|1538355504000|\"Mozilla/5.0 (Win...|     9|\n",
      "|  null|Logged In|    Micah|     M|           99|    Long|  null| free|Boston-Cambridge-...|   PUT|         Logout|1538331630000|        8|null|   307|1538355687000|\"Mozilla/5.0 (Win...|     9|\n",
      "|  null|Logged In|  Ashlynn|     F|            9|Williams|  null| free|     Tallahassee, FL|   PUT|      Thumbs Up|1537365219000|      217|null|   307|1538355711000|\"Mozilla/5.0 (Mac...|    74|\n",
      "|  null|Logged In|    Micah|     M|          104|    Long|  null| free|Boston-Cambridge-...|   GET|           Home|1538331630000|        8|null|   200|1538355855000|\"Mozilla/5.0 (Win...|     9|\n",
      "+------+---------+---------+------+-------------+--------+------+-----+--------------------+------+---------------+-------------+---------+----+------+-------------+--------------------+------+\n",
      "only showing top 10 rows\n",
      "\n"
     ]
    }
   ],
   "source": [
    "# Explore missing values in the artist column\n",
    "df.where(col('artist').isNull()).show(10)"
   ]
  },
  {
   "cell_type": "markdown",
   "metadata": {},
   "source": [
    "These are all missing at the same row - where the user is not logged in. So as we can't identify these users individually and they constitute just ~3% of the records we drop the rows where registration is 0.\n",
    "\n",
    "Total Records : 286500\n",
    "\n",
    "Missing Registration: 8346\n",
    "\n",
    "% Missing Registration : 2.91%\n",
    "\n",
    "First name and last name aren't that useful\n",
    "Auth has no variability - all users are logged in\n",
    "We can user id to uniquely identify a user - so registration number isn't needed\n"
   ]
  },
  {
   "cell_type": "markdown",
   "metadata": {},
   "source": [
    "# Exploratory Data Analysis\n",
    "When you're working with the full dataset, perform EDA by loading a small subset of the data and doing basic manipulations within Spark. In this workspace, you are already provided a small subset of data you can explore.\n",
    "\n",
    "### Define Churn\n",
    "\n",
    "Once you've done some preliminary analysis, create a column `Churn` to use as the label for your model. I suggest using the `Cancellation Confirmation` events to define your churn, which happen for both paid and free users. As a bonus task, you can also look into the `Downgrade` events.\n",
    "\n",
    "### Explore Data\n",
    "Once you've defined churn, perform some exploratory data analysis to observe the behavior for users who stayed vs users who churned. You can start by exploring aggregates on these two groups of users, observing how much of a specific action they experienced per a certain time unit or number of songs played."
   ]
  },
  {
   "cell_type": "code",
   "execution_count": 11,
   "metadata": {},
   "outputs": [
    {
     "name": "stdout",
     "output_type": "stream",
     "text": [
      "+--------------------+------+\n",
      "|                Page| count|\n",
      "+--------------------+------+\n",
      "|              Cancel|    52|\n",
      "|    Submit Downgrade|    63|\n",
      "|         Thumbs Down|  2546|\n",
      "|                Home| 10082|\n",
      "|           Downgrade|  2055|\n",
      "|         Roll Advert|  3933|\n",
      "|              Logout|  3226|\n",
      "|       Save Settings|   310|\n",
      "|Cancellation Conf...|    52|\n",
      "|               About|   495|\n",
      "|            Settings|  1514|\n",
      "|     Add to Playlist|  6526|\n",
      "|          Add Friend|  4277|\n",
      "|            NextSong|228108|\n",
      "|           Thumbs Up| 12551|\n",
      "|                Help|  1454|\n",
      "|             Upgrade|   499|\n",
      "|               Error|   252|\n",
      "|      Submit Upgrade|   159|\n",
      "+--------------------+------+\n",
      "\n"
     ]
    }
   ],
   "source": [
    "# Visualize all the events and their associated counts\n",
    "df.groupBy('Page').count().show()"
   ]
  },
  {
   "cell_type": "code",
   "execution_count": 12,
   "metadata": {},
   "outputs": [
    {
     "name": "stdout",
     "output_type": "stream",
     "text": [
      "+------------+\n",
      "|unique_users|\n",
      "+------------+\n",
      "|         226|\n",
      "+------------+\n",
      "\n"
     ]
    }
   ],
   "source": [
    "# N of unique users are present in this dataset\n",
    "spark.sql('SELECT COUNT(DISTINCT userId) AS unique_users FROM logs').show()"
   ]
  },
  {
   "cell_type": "code",
   "execution_count": 13,
   "metadata": {},
   "outputs": [
    {
     "name": "stdout",
     "output_type": "stream",
     "text": [
      "+------+-----+\n",
      "|userId|churn|\n",
      "+------+-----+\n",
      "|100005|    1|\n",
      "|300007|    1|\n",
      "|100011|    1|\n",
      "|100012|    1|\n",
      "|   101|    1|\n",
      "|100014|    1|\n",
      "|200001|    1|\n",
      "|   105|    1|\n",
      "|     3|    1|\n",
      "|100023|    1|\n",
      "+------+-----+\n",
      "only showing top 10 rows\n",
      "\n"
     ]
    }
   ],
   "source": [
    "spark.sql('SELECT DISTINCT userId, 1 as churn FROM logs WHERE Page = \"Cancellation Confirmation\"').show(10)"
   ]
  },
  {
   "cell_type": "code",
   "execution_count": 14,
   "metadata": {},
   "outputs": [],
   "source": [
    "#creating a dataset will churn & no churn\n",
    "#Dataset for users who churned\n",
    "churn = spark.sql('SELECT DISTINCT userId, 1 as churn FROM logs WHERE Page = \"Cancellation Confirmation\"')\n",
    "\n",
    "#Dataset for user who have no-churn\n",
    "no_churn = spark.sql('SELECT DISTINCT userId, 0 as churn FROM logs \\\n",
    "                      WHERE userId NOT IN (SELECT DISTINCT userId FROM logs WHERE Page = \"Cancellation Confirmation\")')\n"
   ]
  },
  {
   "cell_type": "code",
   "execution_count": 15,
   "metadata": {},
   "outputs": [
    {
     "data": {
      "text/plain": [
       "226"
      ]
     },
     "execution_count": 15,
     "metadata": {},
     "output_type": "execute_result"
    }
   ],
   "source": [
    "# Create a dataframe from the union of the two, shuffling the rows\n",
    "churn_df = churn.union(no_churn)\n",
    "# Create a view \n",
    "churn_df.createOrReplaceTempView('churn')\n",
    "churn_df = spark.sql('SELECT * FROM churn ORDER BY RAND()')\n",
    "churn_df.createOrReplaceTempView('churn')\n",
    "\n",
    "# Check that we have the right number of users\n",
    "churn_df.count()\n"
   ]
  },
  {
   "cell_type": "code",
   "execution_count": 16,
   "metadata": {},
   "outputs": [
    {
     "data": {
      "text/html": [
       "<div>\n",
       "<style scoped>\n",
       "    .dataframe tbody tr th:only-of-type {\n",
       "        vertical-align: middle;\n",
       "    }\n",
       "\n",
       "    .dataframe tbody tr th {\n",
       "        vertical-align: top;\n",
       "    }\n",
       "\n",
       "    .dataframe thead th {\n",
       "        text-align: right;\n",
       "    }\n",
       "</style>\n",
       "<table border=\"1\" class=\"dataframe\">\n",
       "  <thead>\n",
       "    <tr style=\"text-align: right;\">\n",
       "      <th></th>\n",
       "      <th>churn</th>\n",
       "      <th>userId</th>\n",
       "    </tr>\n",
       "  </thead>\n",
       "  <tbody>\n",
       "    <tr>\n",
       "      <th>0</th>\n",
       "      <td>0</td>\n",
       "      <td>174</td>\n",
       "    </tr>\n",
       "    <tr>\n",
       "      <th>1</th>\n",
       "      <td>1</td>\n",
       "      <td>52</td>\n",
       "    </tr>\n",
       "  </tbody>\n",
       "</table>\n",
       "</div>"
      ],
      "text/plain": [
       "   churn  userId\n",
       "0      0     174\n",
       "1      1      52"
      ]
     },
     "execution_count": 16,
     "metadata": {},
     "output_type": "execute_result"
    }
   ],
   "source": [
    "# converting to pandas to see the spread of users between churning or not\n",
    "churn_pd_df = churn_df.toPandas()\n",
    "churn_pd_df.groupby('churn', as_index=False).count()"
   ]
  },
  {
   "cell_type": "markdown",
   "metadata": {},
   "source": [
    "- We define churn at the user ID level by finding \"cancellation confirmation\" events \n",
    "- Then creating an indicator that a user, at any time in its history, will churn. \n",
    "- This approach allows us to study behavior prior to churning to try and build a predictive model and extract behaviors that indicate a risk of churning in the future.\n",
    "- Also it is important to note that our dataset has a class imbalance, containing more than 3 times as many users who did not churn. We will need to keep this in mind when building our model and use some up- or downsampling techniques."
   ]
  },
  {
   "cell_type": "markdown",
   "metadata": {},
   "source": [
    "# Feature Engineering\n",
    "Once you've familiarized yourself with the data, build out the features you find promising to train your model on. To work with the full dataset, you can follow the following steps.\n",
    "- Write a script to extract the necessary features from the smaller subset of data\n",
    "- Ensure that your script is scalable, using the best practices discussed in Lesson 3\n",
    "- Try your script on the full data set, debugging your script if necessary\n",
    "\n",
    "If you are working in the classroom workspace, you can just extract features based on the small subset of data contained here. Be sure to transfer over this work to the larger dataset when you work on your Spark cluster."
   ]
  },
  {
   "cell_type": "code",
   "execution_count": 17,
   "metadata": {},
   "outputs": [
    {
     "name": "stdout",
     "output_type": "stream",
     "text": [
      "+-----+-----+------+\n",
      "|churn|level| count|\n",
      "+-----+-----+------+\n",
      "|    0| free| 43333|\n",
      "|    0| paid|189957|\n",
      "|    1| paid| 32476|\n",
      "|    1| free| 12388|\n",
      "+-----+-----+------+\n",
      "\n"
     ]
    }
   ],
   "source": [
    "# Join our churn dataset to our full dataset to add a column\n",
    "joined_df = df.join(churn_df, on='userId')\n",
    "\n",
    "# Use this column to create some aggregates, first comparing the level of the account\n",
    "joined_df.groupBy(['churn', 'level']).count().show(10)"
   ]
  },
  {
   "cell_type": "code",
   "execution_count": 18,
   "metadata": {},
   "outputs": [],
   "source": [
    "#Function to plot charts\n",
    "def sns_barchart(data_dict):\n",
    "    '''\n",
    "    Function to plot to sns barchart\n",
    "    Input: dictionary objects for the graph, x & y axis, data, hue and titles\n",
    "    Output: plot a bar graph\n",
    "    '''\n",
    "    g = sns.barplot(x=data_dict['x'], y=data_dict['y'], hue=data_dict['hue'], data=data_dict['df'],\n",
    "                palette=\"muted\")\n",
    "    g.set(xlabel=data_dict['x_label'], ylabel=data_dict['y_label'])\n",
    "    plt.title(data_dict['title'])\n",
    "    plt.show();\n",
    "\n",
    "def sns_facet(data_dict):\n",
    "    '''\n",
    "    Function to plot sns facet grid\n",
    "    Input: dictionary object for the graph\n",
    "    Output: plot sns facetgrid\n",
    "    '''\n",
    "    g = sns.FacetGrid(data_dict[\"df\"], col=data_dict[\"col\"], sharey=False)\n",
    "    g.map(plt.hist, data_dict[\"data\"]);"
   ]
  },
  {
   "cell_type": "code",
   "execution_count": 19,
   "metadata": {},
   "outputs": [],
   "source": [
    "# Build a data visualization on propotion of churn vs not chrun\n",
    "level_df = joined_df.groupBy(['churn', 'level']).count().toPandas()\n",
    "churn_sum = level_df.groupby('churn', as_index=False).sum()\n",
    "level_df['proportion'] = (level_df.join(churn_sum, on = 'churn', lsuffix='_1')['count_1']/level_df.join(churn_sum, on = 'churn', lsuffix='_1')['count'])*100"
   ]
  },
  {
   "cell_type": "code",
   "execution_count": 20,
   "metadata": {},
   "outputs": [],
   "source": [
    "#create dictionary object to plot graph\n",
    "chart_data = {}\n",
    "chart_data[\"x\"] = \"churn\"\n",
    "chart_data[\"y\"] = \"proportion\"\n",
    "chart_data[\"hue\"] = \"level\"\n",
    "chart_data[\"df\"] = level_df\n",
    "chart_data[\"x_label\"]=\"Churn\"\n",
    "chart_data[\"y_label\"]=\"Tier Proportion (in %)\"\n",
    "chart_data[\"title\"]=\"Proportions of Churn\""
   ]
  },
  {
   "cell_type": "code",
   "execution_count": 21,
   "metadata": {},
   "outputs": [
    {
     "name": "stdout",
     "output_type": "stream",
     "text": [
      "{'x': 'churn', 'y': 'proportion', 'hue': 'level', 'df':    churn level   count  proportion\n",
      "0      0  free   43333   18.574735\n",
      "1      0  paid  189957   81.425265\n",
      "2      1  paid   32476   72.387660\n",
      "3      1  free   12388   27.612340, 'x_label': 'Churn', 'y_label': 'Tier Proportion (in %)', 'title': 'Proportions of Churn'}\n"
     ]
    }
   ],
   "source": [
    "print(chart_data)"
   ]
  },
  {
   "cell_type": "code",
   "execution_count": 22,
   "metadata": {},
   "outputs": [
    {
     "data": {
      "image/png": "[encoded data removed]",
      "text/plain": [
       "<matplotlib.figure.Figure at 0x7fee2c9ebf98>"
      ]
     },
     "metadata": {
      "needs_background": "light"
     },
     "output_type": "display_data"
    }
   ],
   "source": [
    "sns_barchart(chart_data)"
   ]
  },
  {
   "cell_type": "code",
   "execution_count": 23,
   "metadata": {},
   "outputs": [],
   "source": [
    "# get the average length for every user, keeping the churn information and transform to a Pandas dataframe\n",
    "length_df = joined_df.groupBy(['userId', 'churn']).avg('length').toPandas()"
   ]
  },
  {
   "cell_type": "code",
   "execution_count": 24,
   "metadata": {},
   "outputs": [
    {
     "data": {
      "image/png": "[encoded data removed]",
      "text/plain": [
       "<matplotlib.figure.Figure at 0x7fee19d95470>"
      ]
     },
     "metadata": {
      "needs_background": "light"
     },
     "output_type": "display_data"
    }
   ],
   "source": [
    "#Data Viz for thr Avg Length\n",
    "facet_dict={}\n",
    "facet_dict['df']=length_df\n",
    "facet_dict['col']=\"churn\"\n",
    "facet_dict['data']=\"avg(length)\"\n",
    "sns_facet(facet_dict)"
   ]
  },
  {
   "cell_type": "code",
   "execution_count": 25,
   "metadata": {},
   "outputs": [
    {
     "name": "stdout",
     "output_type": "stream",
     "text": [
      "+-----+------------------+\n",
      "|churn|avg(itemInSession)|\n",
      "+-----+------------------+\n",
      "|    1|109.23299304564907|\n",
      "|    0| 115.9888465000643|\n",
      "+-----+------------------+\n",
      "\n"
     ]
    }
   ],
   "source": [
    "# The itemInSession variable, which represents the rank fo the song in the current sessionk\n",
    "joined_df.groupBy('churn').avg('itemInSession').show()"
   ]
  },
  {
   "cell_type": "code",
   "execution_count": 26,
   "metadata": {},
   "outputs": [
    {
     "data": {
      "image/png": "[encoded data removed]",
      "text/plain": [
       "<matplotlib.figure.Figure at 0x7fee19cdebe0>"
      ]
     },
     "metadata": {
      "needs_background": "light"
     },
     "output_type": "display_data"
    }
   ],
   "source": [
    "# Let us visualize the distribution between both groups\n",
    "item_df = joined_df.groupBy(['userId','churn']).avg('itemInSession').toPandas()\n",
    "\n",
    "facet_dict={}\n",
    "facet_dict['df']=item_df\n",
    "facet_dict['col']=\"churn\"\n",
    "facet_dict['data']=\"avg(itemInSession)\"\n",
    "sns_facet(facet_dict)\n"
   ]
  },
  {
   "cell_type": "code",
   "execution_count": 27,
   "metadata": {},
   "outputs": [
    {
     "name": "stdout",
     "output_type": "stream",
     "text": [
      "+-----+-----+-----+\n",
      "|churn|state|count|\n",
      "+-----+-----+-----+\n",
      "|    0|   CA|39158|\n",
      "|    0|   PA|23708|\n",
      "|    0|   TX|22200|\n",
      "|    0|   NH|18637|\n",
      "|    0|   FL|11427|\n",
      "+-----+-----+-----+\n",
      "only showing top 5 rows\n",
      "\n",
      "+-----+-----+-----+\n",
      "|churn|state|count|\n",
      "+-----+-----+-----+\n",
      "|    1|   CA| 7613|\n",
      "|    1|   CO| 4317|\n",
      "|    1|   MS| 3839|\n",
      "|    1|   WA| 3526|\n",
      "|    1|   OH| 3173|\n",
      "+-----+-----+-----+\n",
      "only showing top 5 rows\n",
      "\n"
     ]
    }
   ],
   "source": [
    "# Let's create a variable representing the state\n",
    "joined_df = joined_df.withColumn('state', substring(col(\"location\"), -2, 3))\n",
    "\n",
    "# See the most present states for people who churned \n",
    "joined_df.groupBy(['churn', 'state']).count().where(joined_df['churn'] == 0).sort(col('count').desc()).show(5)\n",
    "joined_df.groupBy(['churn', 'state']).count().where(joined_df['churn'] == 1).sort(col('count').desc()).show(5)"
   ]
  },
  {
   "cell_type": "code",
   "execution_count": 28,
   "metadata": {},
   "outputs": [
    {
     "name": "stdout",
     "output_type": "stream",
     "text": [
      "+-----+--------------------+\n",
      "|churn|             avg(ts)|\n",
      "+-----+--------------------+\n",
      "|    1|1.539919263874465E12|\n",
      "|    0|1.541158850823305...|\n",
      "+-----+--------------------+\n",
      "\n"
     ]
    }
   ],
   "source": [
    "# Study potential differences based on ts\n",
    "joined_df.groupBy('churn').avg('ts').show(5)"
   ]
  },
  {
   "cell_type": "code",
   "execution_count": 29,
   "metadata": {},
   "outputs": [],
   "source": [
    "# the ts column is actually a unix timestamp, which we convert to a date format\n",
    "joined_df = joined_df.withColumn('date', from_unixtime((col('ts')/1000)).cast(DateType()))"
   ]
  },
  {
   "cell_type": "code",
   "execution_count": 30,
   "metadata": {},
   "outputs": [],
   "source": [
    "# we can create some time based features\n",
    "# first, extract day and month from the date column\n",
    "joined_df = joined_df.withColumn('day', dayofmonth('date')).withColumn('month', month('date'))\n",
    "\n",
    "# then for a given user get the average number of distinct sessions per day and per month\n",
    "day_df = joined_df.groupBy(['userId', 'day']).agg(countDistinct('sessionId')).groupBy('userId').avg('count(DISTINCT sessionId)') \\\n",
    "                  .withColumnRenamed('avg(count(DISTINCT sessionId))', 'daily_sessions')\n",
    "month_df = joined_df.groupBy(['userId', 'month']).agg(countDistinct('sessionId')).groupBy('userId').avg('count(DISTINCT sessionId)') \\\n",
    "                  .withColumnRenamed('avg(count(DISTINCT sessionId))', 'monthly_sessions')\n",
    "\n",
    "# join this information back to the original joined_df for each row for a given userId, it will be used later\n",
    "joined_df = joined_df.join(day_df, on='userId').join(month_df, on='userId')"
   ]
  },
  {
   "cell_type": "code",
   "execution_count": 31,
   "metadata": {},
   "outputs": [
    {
     "name": "stdout",
     "output_type": "stream",
     "text": [
      "+-----+-------------------+\n",
      "|churn|avg(daily_sessions)|\n",
      "+-----+-------------------+\n",
      "|    1|  1.427520820895794|\n",
      "|    0| 1.6932722878596427|\n",
      "+-----+-------------------+\n",
      "\n",
      "+-----+---------------------+\n",
      "|churn|avg(monthly_sessions)|\n",
      "+-----+---------------------+\n",
      "|    1|   10.472394347360913|\n",
      "|    0|   14.987535542315017|\n",
      "+-----+---------------------+\n",
      "\n"
     ]
    }
   ],
   "source": [
    "# Compare number of daily and monthly sessions for the two groups of users\n",
    "joined_df.groupBy('churn').avg('daily_sessions').show()\n",
    "joined_df.groupBy('churn').avg('monthly_sessions').show()"
   ]
  },
  {
   "cell_type": "code",
   "execution_count": 32,
   "metadata": {},
   "outputs": [],
   "source": [
    "# registration is also unix timestamp, representing the registration date. Convert them to an actual date\n",
    "joined_df = joined_df.withColumn('registration_date', from_unixtime((col('registration')/1000)).cast(DateType()))\n",
    "\n",
    "# create a new feature capturing the number of days since registration\n",
    "joined_df = joined_df.withColumn('days_since_registration', datediff(current_date(), col('registration_date')))\n",
    "\n",
    "# create a new feature capturing the month of the year when they registered, to account for potential promotions\n",
    "joined_df = joined_df.withColumn('month_registration', month('registration_date'))"
   ]
  },
  {
   "cell_type": "code",
   "execution_count": 33,
   "metadata": {},
   "outputs": [
    {
     "name": "stdout",
     "output_type": "stream",
     "text": [
      "+-----+--------------------+-----+\n",
      "|churn|           userAgent|count|\n",
      "+-----+--------------------+-----+\n",
      "|    0|\"Mozilla/5.0 (Win...|18226|\n",
      "|    0|\"Mozilla/5.0 (Mac...|16298|\n",
      "|    0|\"Mozilla/5.0 (Mac...|15914|\n",
      "|    0|\"Mozilla/5.0 (Win...|15237|\n",
      "|    0|Mozilla/5.0 (Wind...|15224|\n",
      "+-----+--------------------+-----+\n",
      "only showing top 5 rows\n",
      "\n",
      "+-----+--------------------+-----+\n",
      "|churn|           userAgent|count|\n",
      "+-----+--------------------+-----+\n",
      "|    1|\"Mozilla/5.0 (Mac...| 4736|\n",
      "|    1|\"Mozilla/5.0 (Win...| 4525|\n",
      "|    1|Mozilla/5.0 (Wind...| 3437|\n",
      "|    1|\"Mozilla/5.0 (Mac...| 2534|\n",
      "|    1|Mozilla/5.0 (Maci...| 2462|\n",
      "+-----+--------------------+-----+\n",
      "only showing top 5 rows\n",
      "\n"
     ]
    }
   ],
   "source": [
    "# Study potential differences based on user agent\n",
    "joined_df.groupBy(['churn', 'userAgent']).count().where(joined_df['churn'] == 0).sort(col('count').desc()).show(5)\n",
    "joined_df.groupBy(['churn', 'userAgent']).count().where(joined_df['churn'] == 1).sort(col('count').desc()).show(5)"
   ]
  },
  {
   "cell_type": "code",
   "execution_count": 34,
   "metadata": {},
   "outputs": [],
   "source": [
    "# For a given user we compute number of downgrades, upgrades, thumbs up, thumbs down, add friend, add to playlist, roll advert\n",
    "\n",
    "# Create a column for each of these events, with a 1 each time they occur\n",
    "for c in ['Downgrade', 'Roll Advert', 'Thumbs Down', 'Add to Playlist', 'Add Friend', 'Thumbs Up']:\n",
    "    joined_df = joined_df.withColumn(c, (joined_df['Page'] == c).cast(IntegerType()))\n",
    "    \n",
    "# Prepare data for the pipeline\n",
    "features_df = joined_df.groupBy('userId').agg(avg('itemInSession'), \n",
    "                                              avg('length'),\n",
    "                                              min('daily_sessions'),\n",
    "                                              min('monthly_sessions'),\n",
    "                                              min('days_since_registration'),\n",
    "                                              min('month_registration'),\n",
    "                                            max('level'), \n",
    "                                            max('userAgent'),\n",
    "                                           max('state'),\n",
    "                                           sum('Downgrade'),\n",
    "                                           sum('Roll Advert'),\n",
    "                                           sum('Thumbs Down'),\n",
    "                                           sum('Add to Playlist'),\n",
    "                                           sum('Add Friend'),\n",
    "                                           sum('Thumbs Up'),\n",
    "                                           max('churn'))\n",
    "\n",
    "features_df = features_df.select(col('avg(itemInSession)').alias('itemInSession'),\n",
    "                                 col('avg(length)').alias('length'),\n",
    "                                 col('min(daily_sessions)').alias('daily_sessions'),\n",
    "                                 col('min(monthly_sessions)').alias('monthly_sessions'),\n",
    "                                 col('min(days_since_registration)').alias('days_since_registration'),\n",
    "                                 col('min(month_registration)').alias('month_registration'),\n",
    "                  col('max(level)').alias('level'),\n",
    "                  col('max(userAgent)').alias('userAgent'),\n",
    "                  col('max(state)').alias('state'),\n",
    "                  col('sum(Downgrade)').alias('downgrade'),\n",
    "                  col('sum(Roll Advert)').alias('rollAdvert'),\n",
    "                  col('sum(Thumbs Down)').alias('thumbsDown'),\n",
    "                  col('sum(Add to Playlist)').alias('addToPlaylist'),\n",
    "                  col('sum(Add Friend)').alias('addFriend'),\n",
    "                  col('sum(Thumbs Up)').alias('thumbsUp'),\n",
    "                  col('max(churn)').alias('label'))"
   ]
  },
  {
   "cell_type": "code",
   "execution_count": 35,
   "metadata": {},
   "outputs": [
    {
     "name": "stdout",
     "output_type": "stream",
     "text": [
      "+-------------+------+--------------+----------------+-----------------------+------------------+-----+---------+-----+---------+----------+----------+-------------+---------+--------+-----+\n",
      "|itemInSession|length|daily_sessions|monthly_sessions|days_since_registration|month_registration|level|userAgent|state|downgrade|rollAdvert|thumbsDown|addToPlaylist|addFriend|thumbsUp|label|\n",
      "+-------------+------+--------------+----------------+-----------------------+------------------+-----+---------+-----+---------+----------+----------+-------------+---------+--------+-----+\n",
      "|            0|     0|             0|               0|                      0|                 0|    0|        0|    0|        0|         0|         0|            0|        0|       0|    0|\n",
      "+-------------+------+--------------+----------------+-----------------------+------------------+-----+---------+-----+---------+----------+----------+-------------+---------+--------+-----+\n",
      "\n"
     ]
    }
   ],
   "source": [
    "# Visualize the presence of potential null values\n",
    "features_df.select([count(when(isnull(c), c)).alias(c) for c in features_df.columns]).show()\n",
    "\n",
    "# Remove these null values\n",
    "features_df = features_df.where(col(\"userAgent\").isNotNull()).where(col(\"state\").isNotNull())"
   ]
  },
  {
   "cell_type": "markdown",
   "metadata": {},
   "source": [
    "After studying distribution of various features between users who churned and those who did not, we choose these specific features for our model:\n",
    "\n",
    "- Although on average the length is the same, digging into the distribution between these two groups shows some slight differences so we include this feature in our model\n",
    "- We include item in session (which loosely translates to the number of songs per session) in our model\n",
    "- The tier free/paid (18.6% free for people who churned vs. 27.6% free for people who not churned) \n",
    "- The state appear to provide information as to whether a user will churn or not\n",
    "- Converting the unix \"ts\" timestamp, we are able to create the avg no of session per day and per month, both these features vary between the groups and we can consider this as a feature for our model\n",
    "- similarly, registration is a unix timestamp capturing the registration date. We use it to engineer two new features for our model: the number of days since registration (the thinking here is that a longer tenure might indicate a lower probability of churning) and the registration month (the thinking being some months might be indicative of promotions and hence less loyal users)\n"
   ]
  },
  {
   "cell_type": "markdown",
   "metadata": {},
   "source": [
    "# Modeling\n",
    "Split the full dataset into train, test, and validation sets. Test out several of the machine learning methods you learned. Evaluate the accuracy of the various models, tuning parameters as necessary. Determine your winning model based on test accuracy and report results on the validation set. Since the churned users are a fairly small subset, I suggest using F1 score as the metric to optimize."
   ]
  },
  {
   "cell_type": "code",
   "execution_count": 36,
   "metadata": {},
   "outputs": [],
   "source": [
    "#Create Pipeline\n",
    "indexer_state = StringIndexer(inputCol='state', outputCol='state_index')\n",
    "indexer_level = StringIndexer(inputCol='level', outputCol='level_index')\n",
    "indexer_ua = StringIndexer(inputCol='userAgent', outputCol='userAgent_index')\n",
    "assembler = VectorAssembler(inputCols=['itemInSession', \n",
    "                                       'length',\n",
    "                                       'daily_sessions',\n",
    "                                       'monthly_sessions',\n",
    "                                       'days_since_registration',\n",
    "                                       'month_registration',\n",
    "                                       'level_index', \n",
    "                                       'state_index',\n",
    "                                       'userAgent_index',\n",
    "                                       'downgrade',\n",
    "                                       'rollAdvert',\n",
    "                                       'thumbsDown',\n",
    "                                       'addToPlaylist',\n",
    "                                       'addFriend',\n",
    "                                       'thumbsUp'],\n",
    "                           outputCol='features')\n",
    "features_pipeline = Pipeline(stages=[indexer_state, indexer_level, indexer_ua, assembler])\n",
    "\n",
    "model_df = features_pipeline.fit(features_df).transform(features_df)"
   ]
  },
  {
   "cell_type": "code",
   "execution_count": 37,
   "metadata": {},
   "outputs": [],
   "source": [
    "#structure the data from sparse to dense\n",
    "df2 = model_df.select(\"label\", \"features\")\n",
    "rdd = df2.rdd.map(lambda x: Row(label=x[0],features=DenseVector(x[1].toArray()))\n",
    "                     if (len(x)>1 and hasattr(x[1], \"toArray\"))\n",
    "                     else Row(label=None, features=DenseVector([])))\n",
    "model_data = spark.createDataFrame(rdd)"
   ]
  },
  {
   "cell_type": "code",
   "execution_count": 38,
   "metadata": {},
   "outputs": [],
   "source": [
    "# Create a function to train and estimate a model\n",
    "def fit_estimate(train, test, model):\n",
    "    '''\n",
    "    INPUTS:\n",
    "    train (Spark df): a Spark data frame with training data\n",
    "    test (Spark df): a Spark data frame with testing data\n",
    "    model (string): a string designating one of the models to fit, either 'logistic_regression', 'random_forest' \n",
    "                    or 'gradient_boosting'\n",
    "    \n",
    "    OUTPUT:\n",
    "    None, prints out accuracy for the model\n",
    "    \n",
    "    DESCRIPTION:\n",
    "    Fits and estimates different classification models with the default parameters\n",
    "    '''\n",
    "    # Choose the model\n",
    "    if model == 'logistic_regression':\n",
    "        ml = LogisticRegression()\n",
    "    elif model == 'random_forest':\n",
    "        ml = RandomForestClassifier()\n",
    "    elif model == 'gradient_boosting':\n",
    "        ml = GBTClassifier()\n",
    "    else:\n",
    "        return \"Please choose an appropriate model\"\n",
    "    \n",
    "    # Fit and calculate predictions\n",
    "    classification = ml.fit(train)\n",
    "    results = classification.transform(test)\n",
    "    \n",
    "    # Calculate accuracy and F-1 score\n",
    "    accuracy_evaluator = MulticlassClassificationEvaluator(metricName='accuracy')\n",
    "    accuracy = accuracy_evaluator.evaluate(results.select(col('label'), col('prediction')))\n",
    "    \n",
    "    f1_score_evaluator = MulticlassClassificationEvaluator(metricName='f1')\n",
    "    f1_score = f1_score_evaluator.evaluate(results.select(col('label'), col('prediction')))\n",
    "    \n",
    "    print('For {}, the accuracy on the test set is {:.2%} and the F-1 score is {}'\\\n",
    "    .format(model, accuracy, f1_score))"
   ]
  },
  {
   "cell_type": "code",
   "execution_count": 39,
   "metadata": {},
   "outputs": [
    {
     "name": "stdout",
     "output_type": "stream",
     "text": [
      "In our training set, before upsampling we have 41 users who churned and 150 who did not.\n"
     ]
    }
   ],
   "source": [
    "# Split this data between train, validation and test sets\n",
    "train, test = model_data.randomSplit([0.8, 0.2], seed=42)\n",
    "\n",
    "# Due to the class imbalance, we upsample the categories who churned in the training dataset\n",
    "print('In our training set, before upsampling we have {} users who churned and {} who did not.'.format(train.where(col('label') == 1).count(),\n",
    "                                                                                           train.where(col('label') == 0).count()))\n",
    "\n",
    "train_churn = train.where(col('label') == 1).sample(True, train.where(col('label') == 0).count()/train.where(col('label') == 1).count())\n",
    "train_no_churn = train.where(col('label') == 0)\n",
    "train = train_churn.unionAll(train_no_churn)"
   ]
  },
  {
   "cell_type": "code",
   "execution_count": 44,
   "metadata": {},
   "outputs": [
    {
     "name": "stdout",
     "output_type": "stream",
     "text": [
      "For logistic_regression, the accuracy on the test set is 61.76% and the F-1 score is 0.6272503419972639\n",
      "For random_forest, the accuracy on the test set is 73.53% and the F-1 score is 0.72249952612624\n",
      "For gradient_boosting, the accuracy on the test set is 67.65% and the F-1 score is 0.6608327541542932\n"
     ]
    }
   ],
   "source": [
    "\n",
    "# Fit various models and visualize their accuracies\n",
    "for model in ['logistic_regression', 'random_forest', 'gradient_boosting']:\n",
    "    fit_estimate(train, test, model)"
   ]
  },
  {
   "cell_type": "markdown",
   "metadata": {},
   "source": [
    "Let us go with Random forest and optimize further since it performs best both in terms of accuracy and F1 score, and it quite fast to train.\n"
   ]
  },
  {
   "cell_type": "code",
   "execution_count": 40,
   "metadata": {},
   "outputs": [
    {
     "name": "stdout",
     "output_type": "stream",
     "text": [
      "For RandomForestClassifier_72d714ba6fd0, the accuracy on the test set is 67.65% and the F-1 score is 0.5459236326109391\n"
     ]
    }
   ],
   "source": [
    "# Optimize a Random Forest model through Grid Search\n",
    "model = RandomForestClassifier()\n",
    "param_grid = ParamGridBuilder() \\\n",
    "    .addGrid(model.minInfoGain, [0, 1]) \\\n",
    "    .addGrid(model.numTrees, [20, 50]) \\\n",
    "    .addGrid(model.maxDepth, [5, 10]) \\\n",
    "    .build()\n",
    "\n",
    "crossval = CrossValidator(estimator = Pipeline(stages=[model]),\n",
    "                         estimatorParamMaps = param_grid,\n",
    "                         evaluator = MulticlassClassificationEvaluator(metricName='f1'),\n",
    "                         numFolds = 3)\n",
    "\n",
    "classification = crossval.fit(train)\n",
    "results = classification.transform(test)\n",
    "\n",
    "# Calculate accuracy and F-1 score\n",
    "accuracy_evaluator = MulticlassClassificationEvaluator(metricName='accuracy')\n",
    "accuracy = accuracy_evaluator.evaluate(results.select(col('label'), col('prediction')))\n",
    "\n",
    "f1_score_evaluator = MulticlassClassificationEvaluator(metricName='f1')\n",
    "f1_score = f1_score_evaluator.evaluate(results.select(col('label'), col('prediction')))\n",
    "\n",
    "print('For {}, the accuracy on the test set is {:.2%} and the F-1 score is {}'\\\n",
    ".format(model, accuracy, f1_score))"
   ]
  },
  {
   "cell_type": "code",
   "execution_count": 41,
   "metadata": {},
   "outputs": [
    {
     "data": {
      "text/plain": [
       "DenseVector([0.0994, 0.0747, 0.0735, 0.0658, 0.0769, 0.0274, 0.0088, 0.0647, 0.0547, 0.0591, 0.0627, 0.0593, 0.0692, 0.1093, 0.0946])"
      ]
     },
     "execution_count": 41,
     "metadata": {},
     "output_type": "execute_result"
    }
   ],
   "source": [
    "# Examine feature importance\n",
    "DenseVector(classification.bestModel.stages[-1].featureImportances)"
   ]
  },
  {
   "cell_type": "markdown",
   "metadata": {},
   "source": [
    "**Summary on Steps we accomplished**\n",
    "\n",
    "1. Converted all our features into numeric by creating a pipeline.\n",
    "2. Upsampled the \"churn\" category in our training dataset due to the class imbalance in our dataset.\n",
    "3. Created a Machinlearning pipeline to train and evaluate the model\n",
    "4. Trained the data with three different algorithm, a)Logstic Regression b)Random Forest c)Gradient boosting\n",
    "5. we selected Random forest to optimize further as it was having very good F1 score and accuracy\n",
    "6. The hyparameter tunning resulted in \n",
    "\n",
    "**Conclusion**\n",
    "We have created powerful model, which flag the peopple \"at risk\" for not churning out. Which helps the company to target those customer and send personlized offers and discounts to retain the customer, thus improving revenue and growth of the Sparkify.\n",
    "It is important that this model be re-trained regularly to avoid making decisions on outdated data as the user base and consumer behavior evolve. \n",
    "For instance, the model could be run every day (or week depending on the computing infrastructure) and once a user is flagged as likely to churn, personalized messages or discounts could be sent. \n",
    "sparkify can also use A/B testing to ensure rigor and statistical significance, to improve the chrun rate and campaign click thru rate. which reduces the cost spend on the ads. \n"
   ]
  },
  {
   "cell_type": "markdown",
   "metadata": {},
   "source": [
    "# Final Steps\n",
    "Clean up your code, adding comments and renaming variables to make the code easier to read and maintain. Refer to the Spark Project Overview page and Data Scientist Capstone Project Rubric to make sure you are including all components of the capstone project and meet all expectations. Remember, this includes thorough documentation in a README file in a Github repository, as well as a web app or blog post."
   ]
  },
  {
   "cell_type": "code",
   "execution_count": null,
   "metadata": {},
   "outputs": [],
   "source": []
  }
 ],
 "metadata": {
  "kernelspec": {
   "display_name": "Python 3",
   "language": "python",
   "name": "python3"
  },
  "language_info": {
   "codemirror_mode": {
    "name": "ipython",
    "version": 3
   },
   "file_extension": ".py",
   "mimetype": "text/x-python",
   "name": "python",
   "nbconvert_exporter": "python",
   "pygments_lexer": "ipython3",
   "version": "3.6.3"
  }
 },
 "nbformat": 4,
 "nbformat_minor": 2
}
